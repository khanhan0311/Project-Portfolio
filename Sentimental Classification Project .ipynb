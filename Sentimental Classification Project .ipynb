{
 "cells": [
  {
   "cell_type": "code",
   "execution_count": 1,
   "id": "9942c580",
   "metadata": {},
   "outputs": [
    {
     "ename": "FileNotFoundError",
     "evalue": "[Errno 2] No such file or directory: 'positive_words.txt'",
     "output_type": "error",
     "traceback": [
      "\u001b[0;31m---------------------------------------------------------------------------\u001b[0m",
      "\u001b[0;31mFileNotFoundError\u001b[0m                         Traceback (most recent call last)",
      "\u001b[0;32m<ipython-input-1-744d1b68c751>\u001b[0m in \u001b[0;36m<module>\u001b[0;34m\u001b[0m\n\u001b[1;32m      3\u001b[0m \u001b[0;31m# lists of words to use\u001b[0m\u001b[0;34m\u001b[0m\u001b[0;34m\u001b[0m\u001b[0;34m\u001b[0m\u001b[0m\n\u001b[1;32m      4\u001b[0m \u001b[0mpositive_words\u001b[0m \u001b[0;34m=\u001b[0m \u001b[0;34m[\u001b[0m\u001b[0;34m]\u001b[0m\u001b[0;34m\u001b[0m\u001b[0;34m\u001b[0m\u001b[0m\n\u001b[0;32m----> 5\u001b[0;31m \u001b[0;32mwith\u001b[0m \u001b[0mopen\u001b[0m\u001b[0;34m(\u001b[0m\u001b[0;34m\"positive_words.txt\"\u001b[0m\u001b[0;34m)\u001b[0m \u001b[0;32mas\u001b[0m \u001b[0mpos_f\u001b[0m\u001b[0;34m:\u001b[0m\u001b[0;34m\u001b[0m\u001b[0;34m\u001b[0m\u001b[0m\n\u001b[0m\u001b[1;32m      6\u001b[0m     \u001b[0;32mfor\u001b[0m \u001b[0mlin\u001b[0m \u001b[0;32min\u001b[0m \u001b[0mpos_f\u001b[0m\u001b[0;34m:\u001b[0m\u001b[0;34m\u001b[0m\u001b[0;34m\u001b[0m\u001b[0m\n\u001b[1;32m      7\u001b[0m         \u001b[0;32mif\u001b[0m \u001b[0mlin\u001b[0m\u001b[0;34m[\u001b[0m\u001b[0;36m0\u001b[0m\u001b[0;34m]\u001b[0m \u001b[0;34m!=\u001b[0m \u001b[0;34m';'\u001b[0m \u001b[0;32mand\u001b[0m \u001b[0mlin\u001b[0m\u001b[0;34m[\u001b[0m\u001b[0;36m0\u001b[0m\u001b[0;34m]\u001b[0m \u001b[0;34m!=\u001b[0m \u001b[0;34m'\\n'\u001b[0m\u001b[0;34m:\u001b[0m\u001b[0;34m\u001b[0m\u001b[0;34m\u001b[0m\u001b[0m\n",
      "\u001b[0;31mFileNotFoundError\u001b[0m: [Errno 2] No such file or directory: 'positive_words.txt'"
     ]
    }
   ],
   "source": [
    "punctuation_chars = [\"'\", '\"', \",\", \".\", \"!\", \":\", \";\", '#', '@']\n",
    "\n",
    "# lists of words to use\n",
    "positive_words = []\n",
    "with open(\"positive_words.txt\") as pos_f:\n",
    "    for lin in pos_f:\n",
    "        if lin[0] != ';' and lin[0] != '\\n':\n",
    "            positive_words.append(lin.strip())\n",
    "\n",
    "\n",
    "negative_words = []\n",
    "with open(\"negative_words.txt\") as pos_f:\n",
    "    for lin in pos_f:\n",
    "        if lin[0] != ';' and lin[0] != '\\n':\n",
    "            negative_words.append(lin.strip())\n",
    "\n",
    "#strip punctuation\n",
    "def strip_punctuation(word):\n",
    "    for char in word:\n",
    "        if char in punctuation_chars:\n",
    "            word = word.replace(char,\"\")\n",
    "    return word    \n",
    "\n",
    "#count positive words\n",
    "def get_pos(string):\n",
    "    contents = strip_punctuation(string)\n",
    "    words_lst = contents.split(\" \")\n",
    "    count = 0\n",
    "    for word in words_lst:\n",
    "        if word.lower() in positive_words:\n",
    "            count +=1\n",
    "    return count\n",
    "\n",
    "#count negative words\n",
    "def get_neg(string):\n",
    "    contents = strip_punctuation(string)\n",
    "    words = contents.split(\" \")\n",
    "    count = 0\n",
    "    for word in words:\n",
    "        if word.lower() in negative_words:\n",
    "            count += 1\n",
    "    return count\n",
    "\n",
    "#write new resulting file\n",
    "source_file = open('project_twitter_data.csv','r')\n",
    "rd = source_file.readline()\n",
    "\n",
    "file = open('resulting_data.csv','w')\n",
    "file.write('Number of Retweets, Number of Replies, Positive Score, Negative Score, Net Score')\n",
    "file.write('\\n')\n",
    "for data in source_file.readlines():\n",
    "    data=data.split(\",\")\n",
    "    file.write ('{},{},{},{},{}'.format(int(data[1]),int(data[2]),get_pos(data[0]),get_neg(data[0]),(get_pos(data[0])-get_neg(data[0])) ))\n",
    "    file.write('\\n')\n",
    "    \n",
    "file.close()\n",
    "source_file.close()\n"
   ]
  },
  {
   "cell_type": "code",
   "execution_count": null,
   "id": "c3b36c13",
   "metadata": {},
   "outputs": [],
   "source": []
  }
 ],
 "metadata": {
  "kernelspec": {
   "display_name": "Python 3",
   "language": "python",
   "name": "python3"
  },
  "language_info": {
   "codemirror_mode": {
    "name": "ipython",
    "version": 3
   },
   "file_extension": ".py",
   "mimetype": "text/x-python",
   "name": "python",
   "nbconvert_exporter": "python",
   "pygments_lexer": "ipython3",
   "version": "3.8.8"
  }
 },
 "nbformat": 4,
 "nbformat_minor": 5
}
